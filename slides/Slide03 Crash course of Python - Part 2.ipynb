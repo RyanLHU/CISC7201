{
 "cells": [
  {
   "cell_type": "markdown",
   "metadata": {
    "slideshow": {
     "slide_type": "slide"
    }
   },
   "source": [
    "# Slide03 Crash course of Python - Part 2\n",
    "* Based on Learning Python (by Mark Lutz & David Ascher) and A Crash Course in Python (Cuauhtémoc Carbajal)"
   ]
  },
  {
   "cell_type": "markdown",
   "metadata": {
    "slideshow": {
     "slide_type": "slide"
    }
   },
   "source": [
    "# Outlines\n",
    "- Why Python\n",
    "- Python References\n",
    "- Python Advantag\n",
    "- Python Toolkit\n",
    "- Getting Python\n",
    "- Running Python\n",
    "- Python Principles\n",
    "- Python Language and Examples\n"
   ]
  },
  {
   "cell_type": "markdown",
   "metadata": {
    "slideshow": {
     "slide_type": "slide"
    }
   },
   "source": [
    "# IF Statement\n",
    "* <b>if</b> <font color=\"red\">condition</font> <b>:</b>"
   ]
  },
  {
   "cell_type": "code",
   "execution_count": 4,
   "metadata": {
    "slideshow": {
     "slide_type": "fragment"
    }
   },
   "outputs": [
    {
     "name": "stdout",
     "output_type": "stream",
     "text": [
      "Lower case letter\n"
     ]
    }
   ],
   "source": [
    "# General form example:\n",
    "c = 'j'; d = 'klm'\n",
    "if 'a' <= c <= 'z':\n",
    "    print('Lower case letter')\n",
    "elif 'A' <= c <= 'Z': # optional\n",
    "  print('Upper case letter')\n",
    "else: # optional\n",
    "  print('Not a letter')"
   ]
  },
  {
   "cell_type": "markdown",
   "metadata": {
    "slideshow": {
     "slide_type": "slide"
    }
   },
   "source": [
    "# Block (a.k.a. Suites)\n",
    "* All statements indented the same amount are members of the same block (or suite)\n",
    "* until another less indented statement ends the block (or suite)."
   ]
  },
  {
   "cell_type": "code",
   "execution_count": 5,
   "metadata": {
    "slideshow": {
     "slide_type": "fragment"
    }
   },
   "outputs": [
    {
     "name": "stdout",
     "output_type": "stream",
     "text": [
      "Lower case letter\n",
      "Found it\n"
     ]
    }
   ],
   "source": [
    "c = 'j'; d = 'klm'\n",
    "if 'a' <= c <= 'z': # block\n",
    "  print('Lower case letter')\n",
    "  if d[1] == '':# sub-block\n",
    "    print(\"Not in dictionary\")\n",
    "  else: print(\"Found it\") # OK for one stmt\n",
    "else:\n",
    "  print(\"Could not check\")"
   ]
  },
  {
   "cell_type": "markdown",
   "metadata": {
    "slideshow": {
     "slide_type": "slide"
    }
   },
   "source": [
    "# Truth Tests\n",
    "* Comparisons and equality return <font color=\"red\"><b>True</b></font> or <font color=\"red\"><b>False</b></font>.\n",
    "* Boolean <font color=\"red\"><b>and</b></font> and <font color=\"red\"><b>or</b></font> use \"short circuit\" logic to return true or false objects\n",
    "* In boolean and expressions, first false is returned or last true value in expression.\n",
    "* In boolean or expressions, first true is returned or last false value in expression."
   ]
  },
  {
   "cell_type": "code",
   "execution_count": 18,
   "metadata": {
    "slideshow": {
     "slide_type": "fragment"
    }
   },
   "outputs": [
    {
     "name": "stdout",
     "output_type": "stream",
     "text": [
      "4 []\n",
      "[]\n",
      "(0,) {}\n"
     ]
    }
   ],
   "source": [
    "print(3 and 4, [3,4] and [])\n",
    "print([] and {})\n",
    "print((3<2) or (0,), [] or {})"
   ]
  },
  {
   "cell_type": "markdown",
   "metadata": {
    "slideshow": {
     "slide_type": "slide"
    }
   },
   "source": [
    "# WHILE Statement\n",
    "* General format"
   ]
  },
  {
   "cell_type": "code",
   "execution_count": null,
   "metadata": {
    "slideshow": {
     "slide_type": "fragment"
    }
   },
   "outputs": [],
   "source": [
    "while <test> : \t# loop conditional\n",
    "  <stmt-block1> \t# loop body\n",
    "else: \t\t\t# optional - run\n",
    "  <stmt-block2> \t# if no break used"
   ]
  },
  {
   "cell_type": "code",
   "execution_count": 19,
   "metadata": {
    "slideshow": {
     "slide_type": "fragment"
    }
   },
   "outputs": [
    {
     "name": "stdout",
     "output_type": "stream",
     "text": [
      "0 1 2 3 4 "
     ]
    }
   ],
   "source": [
    "a = 0; b = 5\n",
    "while a < b :\n",
    "    print(a,end=\" \") \t\t# outputs 0 1 2 3 4\n",
    "    a = a + 1"
   ]
  },
  {
   "cell_type": "markdown",
   "metadata": {
    "slideshow": {
     "slide_type": "subslide"
    }
   },
   "source": [
    "# BREAK, CONTINUE, PASS (1)\n",
    "**break** - terminates the innermost executing loop and transfer control after the loop.\n",
    "**continue** - immediately transfers control to the top of the innermost executing loop.\n",
    "**pass** - is the no-op statement in Python."
   ]
  },
  {
   "cell_type": "code",
   "execution_count": null,
   "metadata": {
    "scrolled": true,
    "slideshow": {
     "slide_type": "fragment"
    }
   },
   "outputs": [],
   "source": [
    "while <test0> : \t\t# loop header\n",
    "  <stmts1> \t\t\t# run if test0 true\n",
    "  if <test1> : break \t\t# exit, skip else\n",
    "  if <test2> : continue \t# go to loop header\n",
    "  <stmts2> \t\t\t# not run if test2 true\n",
    "else :\n",
    "  <stmts3> \t\t\t# run if didn't hit break"
   ]
  },
  {
   "cell_type": "markdown",
   "metadata": {
    "slideshow": {
     "slide_type": "subslide"
    }
   },
   "source": [
    "# The <font color=\"red\"><b>break</b></font> statement"
   ]
  },
  {
   "cell_type": "code",
   "execution_count": 23,
   "metadata": {
    "slideshow": {
     "slide_type": "fragment"
    }
   },
   "outputs": [
    {
     "name": "stdout",
     "output_type": "stream",
     "text": [
      "Current Letter : P\n",
      "Current Letter : y\n",
      "Current Letter : t\n"
     ]
    }
   ],
   "source": [
    "for letter in 'Python': \t# First Example\n",
    "  if letter == 'h':\n",
    "    break\n",
    "  print('Current Letter :', letter)"
   ]
  },
  {
   "cell_type": "markdown",
   "metadata": {
    "slideshow": {
     "slide_type": "subslide"
    }
   },
   "source": [
    "# The <font color=\"red\"><b>continue</b></font> statement"
   ]
  },
  {
   "cell_type": "code",
   "execution_count": 24,
   "metadata": {
    "slideshow": {
     "slide_type": "fragment"
    }
   },
   "outputs": [
    {
     "name": "stdout",
     "output_type": "stream",
     "text": [
      "Current Letter : P\n",
      "Current Letter : y\n",
      "Current Letter : t\n",
      "Current Letter : o\n",
      "Current Letter : n\n"
     ]
    }
   ],
   "source": [
    "for letter in 'Python': \t# First Example\n",
    "  if letter == 'h':\n",
    "    continue\n",
    "  print('Current Letter :', letter)"
   ]
  },
  {
   "cell_type": "code",
   "execution_count": 25,
   "metadata": {
    "slideshow": {
     "slide_type": "fragment"
    }
   },
   "outputs": [
    {
     "name": "stdout",
     "output_type": "stream",
     "text": [
      "Current variable value : 9\n",
      "Current variable value : 8\n",
      "Current variable value : 7\n",
      "Current variable value : 6\n",
      "Current variable value : 4\n",
      "Current variable value : 3\n",
      "Current variable value : 2\n",
      "Current variable value : 1\n",
      "Current variable value : 0\n",
      "Good bye!\n"
     ]
    }
   ],
   "source": [
    "var = 10                      # Second Example\n",
    "while var > 0:\n",
    "  var = var - 1\n",
    "  if var == 5:\n",
    "    continue\n",
    "  print('Current variable value :', var)\n",
    "print(\"Good bye!\")"
   ]
  },
  {
   "cell_type": "markdown",
   "metadata": {
    "slideshow": {
     "slide_type": "subslide"
    }
   },
   "source": [
    "# The <font color=\"red\"><b>pass</b></font> Statement\n",
    "* The **pass** statement does nothing. It can be used when a statement is required syntactically but the program requires no action."
   ]
  },
  {
   "cell_type": "code",
   "execution_count": 27,
   "metadata": {
    "slideshow": {
     "slide_type": "fragment"
    }
   },
   "outputs": [
    {
     "name": "stdout",
     "output_type": "stream",
     "text": [
      "Current Letter : P\n",
      "Current Letter : y\n",
      "Current Letter : t\n",
      "This is pass block\n",
      "Current Letter : h\n",
      "Current Letter : o\n",
      "Current Letter : n\n",
      "Good bye!\n"
     ]
    }
   ],
   "source": [
    "for letter in 'Python':\n",
    "  if letter == 'h':\n",
    "    print('This is pass block')\n",
    "    pass\n",
    "  print('Current Letter :', letter)\n",
    "print(\"Good bye!\")"
   ]
  },
  {
   "cell_type": "code",
   "execution_count": 21,
   "metadata": {
    "slideshow": {
     "slide_type": "subslide"
    }
   },
   "outputs": [
    {
     "name": "stdout",
     "output_type": "stream",
     "text": [
      "Number is 0\n",
      "Number is 1\n",
      "Number is 2\n",
      "Number is 3\n",
      "Number is 4\n",
      "Number is 5\n",
      "Number is 6\n",
      "Number is 7\n",
      "Number is 8\n",
      "Number is 9\n",
      "Out of loop\n"
     ]
    }
   ],
   "source": [
    "number = 0\n",
    "for number in range(10):\n",
    "    print('Number is ' + str(number))\n",
    "print('Out of loop')"
   ]
  },
  {
   "cell_type": "code",
   "execution_count": 20,
   "metadata": {
    "slideshow": {
     "slide_type": "fragment"
    }
   },
   "outputs": [
    {
     "name": "stdout",
     "output_type": "stream",
     "text": [
      "Number is 0\n",
      "Number is 1\n",
      "Number is 2\n",
      "Number is 3\n",
      "Number is 4\n",
      "Number is 5\n",
      "Number is 6\n",
      "Number is 7\n",
      "Number is 8\n",
      "Number is 9\n",
      "Out of loop\n"
     ]
    }
   ],
   "source": [
    "number = 0\n",
    "for number in range(10):\n",
    "    if number == 5:\n",
    "        pass    # pass here\n",
    "    print('Number is ' + str(number))\n",
    "print('Out of loop')"
   ]
  },
  {
   "cell_type": "markdown",
   "metadata": {
    "slideshow": {
     "slide_type": "slide"
    }
   },
   "source": [
    "# NESTED FOR LOOP\n",
    "* An example of running a **sub-loop** in a **main-loop**"
   ]
  },
  {
   "cell_type": "code",
   "execution_count": 28,
   "metadata": {
    "slideshow": {
     "slide_type": "fragment"
    }
   },
   "outputs": [
    {
     "name": "stdout",
     "output_type": "stream",
     "text": [
      "Mary Tom\n",
      "Mary Tina\n",
      "Mary Sam\n",
      "Tina Tom\n",
      "Tina Tina\n",
      "Tina Sam\n",
      "Tom Tom\n",
      "Tom Tina\n",
      "Tom Sam\n"
     ]
    }
   ],
   "source": [
    "L = ['Tom', 'Tina', 'Sam']\n",
    "M = ['Mary', 'Tina', 'Tom']\n",
    "for x in M :\n",
    "  for y in L :\n",
    "    print(x, y)"
   ]
  },
  {
   "cell_type": "markdown",
   "metadata": {
    "slideshow": {
     "slide_type": "slide"
    }
   },
   "source": [
    "# BREAK, CONTINUE, PASS (2)\n",
    "* Examples of **break** and **continue** in **for**.\n",
    "* The else block just after for/while is executed only when the loop is NOT terminated by a break statement."
   ]
  },
  {
   "cell_type": "code",
   "execution_count": 35,
   "metadata": {
    "slideshow": {
     "slide_type": "fragment"
    }
   },
   "outputs": [
    {
     "name": "stdout",
     "output_type": "stream",
     "text": [
      "Mary is not in ['Tom', 'Tina', 'Sam']\n",
      "Tina found\n",
      "Tom found\n"
     ]
    }
   ],
   "source": [
    "L = ['Tom', 'Tina', 'Sam']\n",
    "M = ['Mary', 'Tina', 'Tom']\n",
    "for x in M :\n",
    "  for y in L :\n",
    "    if x == y :\n",
    "      print(\"%s found\" % x)\n",
    "      break\n",
    "  else :\n",
    "    print(\"%s is not in %s\" % (x, L))"
   ]
  },
  {
   "cell_type": "markdown",
   "metadata": {
    "slideshow": {
     "slide_type": "fragment"
    }
   },
   "source": [
    "* This block is triggered \n",
    "* when **x!=y** for a specific x and every possible value of **y**"
   ]
  },
  {
   "cell_type": "markdown",
   "metadata": {
    "slideshow": {
     "slide_type": "slide"
    }
   },
   "source": [
    "# RANGE Function\n",
    "* General formats, all returning a list:"
   ]
  },
  {
   "cell_type": "code",
   "execution_count": 36,
   "metadata": {
    "slideshow": {
     "slide_type": "fragment"
    }
   },
   "outputs": [
    {
     "ename": "NameError",
     "evalue": "name 'hi' is not defined",
     "output_type": "error",
     "traceback": [
      "\u001b[1;31m---------------------------------------------------------------------------\u001b[0m",
      "\u001b[1;31mNameError\u001b[0m                                 Traceback (most recent call last)",
      "\u001b[1;32m<ipython-input-36-13e9daa56eab>\u001b[0m in \u001b[0;36m<module>\u001b[1;34m\u001b[0m\n\u001b[1;32m----> 1\u001b[1;33m \u001b[0mrange\u001b[0m\u001b[1;33m(\u001b[0m\u001b[0mhi\u001b[0m\u001b[1;33m)\u001b[0m               \u001b[1;31m# 0 to hi-1\u001b[0m\u001b[1;33m\u001b[0m\u001b[1;33m\u001b[0m\u001b[0m\n\u001b[0m\u001b[0;32m      2\u001b[0m \u001b[0mrange\u001b[0m\u001b[1;33m(\u001b[0m\u001b[0mlo\u001b[0m\u001b[1;33m,\u001b[0m \u001b[0mhi\u001b[0m\u001b[1;33m)\u001b[0m           \u001b[1;31m# lo to hi-1\u001b[0m\u001b[1;33m\u001b[0m\u001b[1;33m\u001b[0m\u001b[0m\n\u001b[0;32m      3\u001b[0m \u001b[0mrange\u001b[0m\u001b[1;33m(\u001b[0m\u001b[0mlo\u001b[0m\u001b[1;33m,\u001b[0m \u001b[0mhi\u001b[0m\u001b[1;33m,\u001b[0m \u001b[0mincr\u001b[0m\u001b[1;33m)\u001b[0m     \u001b[1;31m# lo to hi-1 by incr\u001b[0m\u001b[1;33m\u001b[0m\u001b[1;33m\u001b[0m\u001b[0m\n",
      "\u001b[1;31mNameError\u001b[0m: name 'hi' is not defined"
     ]
    }
   ],
   "source": [
    "range(hi) \t\t# 0 to hi-1\n",
    "range(lo, hi) \t\t# lo to hi-1\n",
    "range(lo, hi, incr) \t# lo to hi-1 by incr"
   ]
  },
  {
   "cell_type": "code",
   "execution_count": 54,
   "metadata": {
    "slideshow": {
     "slide_type": "fragment"
    }
   },
   "outputs": [
    {
     "name": "stdout",
     "output_type": "stream",
     "text": [
      "0,1,2,\n",
      "2,3,4,\n",
      "2,4,"
     ]
    }
   ],
   "source": [
    "for I in range(3): print(I,end=\",\")\n",
    "print()\n",
    "for I in range(2,5): print(I,end=\",\")\n",
    "print()\n",
    "for I in range(2,5,2): print(I,end=\",\")"
   ]
  },
  {
   "cell_type": "markdown",
   "metadata": {
    "slideshow": {
     "slide_type": "slide"
    }
   },
   "source": [
    "# Statement Gotchas\n",
    "* Forgetting the colons.\n",
    "* Not starting in column 1.\n",
    "* Indenting inconsistently.\n",
    "* Use of C/C++ conventions for blocks.\n",
    "* Expecting results from all expressions.\n",
    "  * Some functions do not return values (they return None). Using this value can erase results"
   ]
  },
  {
   "cell_type": "code",
   "execution_count": 58,
   "metadata": {
    "slideshow": {
     "slide_type": "fragment"
    }
   },
   "outputs": [
    {
     "name": "stdout",
     "output_type": "stream",
     "text": [
      "[1, 2, 3]\n"
     ]
    }
   ],
   "source": [
    "L = [1, 2, 3]\n",
    "print(L)"
   ]
  },
  {
   "cell_type": "code",
   "execution_count": 59,
   "metadata": {
    "slideshow": {
     "slide_type": "fragment"
    }
   },
   "outputs": [
    {
     "name": "stdout",
     "output_type": "stream",
     "text": [
      "None\n"
     ]
    }
   ],
   "source": [
    "L = L.append('a') # L set to None ([])\n",
    "print(L)"
   ]
  },
  {
   "cell_type": "markdown",
   "metadata": {
    "slideshow": {
     "slide_type": "fragment"
    }
   },
   "source": [
    "* Forgetting parenthesis after function names.\n",
    "* Using file extensions on module names."
   ]
  },
  {
   "cell_type": "markdown",
   "metadata": {
    "slideshow": {
     "slide_type": "slide"
    }
   },
   "source": [
    "# Named Functions\n",
    "* General format:"
   ]
  },
  {
   "cell_type": "code",
   "execution_count": null,
   "metadata": {
    "slideshow": {
     "slide_type": "fragment"
    }
   },
   "outputs": [],
   "source": [
    "def name(arg0, … , argN) : \t# header\n",
    "  <statements> \t\t# optional body\n",
    "  return <object> \t\t# optional return"
   ]
  },
  {
   "cell_type": "markdown",
   "metadata": {
    "slideshow": {
     "slide_type": "fragment"
    }
   },
   "source": [
    "* **def** is an executable statement that creates a function object and assigns name to it.\n",
    "* Arguments are passed by reference, not value. (i.e., as with assignment)\n",
    "* Arguments, return values, and variables are not declared."
   ]
  },
  {
   "cell_type": "markdown",
   "metadata": {
    "slideshow": {
     "slide_type": "subslide"
    }
   },
   "source": [
    "# Named Function Example\n",
    "* Get intersection of a set of sequences"
   ]
  },
  {
   "cell_type": "code",
   "execution_count": 61,
   "metadata": {
    "slideshow": {
     "slide_type": "fragment"
    }
   },
   "outputs": [
    {
     "data": {
      "text/plain": [
       "['u', 'e', 's']"
      ]
     },
     "execution_count": 61,
     "metadata": {},
     "output_type": "execute_result"
    }
   ],
   "source": [
    "def intersect(seq1, seq2) :\n",
    "  res = []\n",
    "  for x in seq1 :\n",
    "    if x in seq2 :\n",
    "      res.append(x)\n",
    "  return res\n",
    "intersect(\"Summer's\", 'Blues')"
   ]
  },
  {
   "attachments": {
    "image.png": {
     "image/png": "[encoded data removed]"
    }
   },
   "cell_type": "markdown",
   "metadata": {
    "slideshow": {
     "slide_type": "slide"
    }
   },
   "source": [
    "# Argument Passing\n",
    "* Call by Value for immutable variables \n",
    "https://medium.com/@meghamohan/mutable-and-immutable-side-of-python-c2145cf72747\n",
    "![image.png](attachment:image.png)"
   ]
  },
  {
   "cell_type": "code",
   "execution_count": 62,
   "metadata": {
    "slideshow": {
     "slide_type": "fragment"
    }
   },
   "outputs": [
    {
     "name": "stdout",
     "output_type": "stream",
     "text": [
      "88\n"
     ]
    }
   ],
   "source": [
    "def f(a):\n",
    "  a=99\n",
    "\n",
    "b=88\n",
    "f(b)\n",
    "print(b)"
   ]
  },
  {
   "cell_type": "markdown",
   "metadata": {
    "slideshow": {
     "slide_type": "subslide"
    }
   },
   "source": [
    "# Argument Passing (2) \n",
    "* Call by Reference for mutable variables "
   ]
  },
  {
   "cell_type": "code",
   "execution_count": 91,
   "metadata": {
    "slideshow": {
     "slide_type": "fragment"
    }
   },
   "outputs": [
    {
     "name": "stdout",
     "output_type": "stream",
     "text": [
      "1 ['spam', 2]\n"
     ]
    }
   ],
   "source": [
    "def changer(a,b):\n",
    "  a=2\n",
    "  b[0]='spam'\n",
    "\n",
    "X=1\n",
    "L=[1,2]\n",
    "changer(X,L)\n",
    "print(X,L)"
   ]
  },
  {
   "cell_type": "markdown",
   "metadata": {
    "slideshow": {
     "slide_type": "fragment"
    }
   },
   "source": [
    "<div >\n",
    "<img align=cente src=\"https://raw.githubusercontent.com/LiqingZhang-um/Markdown-Photos-/master/Picture2.png\">\n",
    "</div>"
   ]
  },
  {
   "cell_type": "markdown",
   "metadata": {
    "slideshow": {
     "slide_type": "slide"
    }
   },
   "source": [
    "# Avoiding Mutable Argument Changes\n",
    "* https://learnandlearn.com/python-programming/python-how-to/python-function-arguments-mutable-and-immutable"
   ]
  },
  {
   "cell_type": "code",
   "execution_count": 66,
   "metadata": {
    "slideshow": {
     "slide_type": "fragment"
    }
   },
   "outputs": [
    {
     "name": "stdout",
     "output_type": "stream",
     "text": [
      "1 [1, 2]\n"
     ]
    }
   ],
   "source": [
    "#1. Passing the copy of a list, so our 'L' does not change\n",
    "L = [1, 2]\n",
    "changer(X, L[:])\n",
    "print(X, L)"
   ]
  },
  {
   "cell_type": "code",
   "execution_count": null,
   "metadata": {
    "slideshow": {
     "slide_type": "fragment"
    }
   },
   "outputs": [],
   "source": [
    "#2. Copy input list so we don't impact caller\n",
    "def changer(a, b):\n",
    "  b = b[:]\n",
    "  a = 2\n",
    "  b[0] = 'spam' # Changes our list copy only"
   ]
  },
  {
   "cell_type": "code",
   "execution_count": 69,
   "metadata": {
    "slideshow": {
     "slide_type": "fragment"
    }
   },
   "outputs": [
    {
     "ename": "TypeError",
     "evalue": "'tuple' object does not support item assignment",
     "output_type": "error",
     "traceback": [
      "\u001b[1;31m---------------------------------------------------------------------------\u001b[0m",
      "\u001b[1;31mTypeError\u001b[0m                                 Traceback (most recent call last)",
      "\u001b[1;32m<ipython-input-69-7c4709de344a>\u001b[0m in \u001b[0;36m<module>\u001b[1;34m\u001b[0m\n\u001b[0;32m      2\u001b[0m \u001b[1;33m\u001b[0m\u001b[0m\n\u001b[0;32m      3\u001b[0m \u001b[0mL\u001b[0m \u001b[1;33m=\u001b[0m \u001b[1;33m[\u001b[0m\u001b[1;36m1\u001b[0m\u001b[1;33m,\u001b[0m \u001b[1;36m2\u001b[0m\u001b[1;33m]\u001b[0m\u001b[1;33m\u001b[0m\u001b[1;33m\u001b[0m\u001b[0m\n\u001b[1;32m----> 4\u001b[1;33m \u001b[0mchanger\u001b[0m\u001b[1;33m(\u001b[0m\u001b[0mX\u001b[0m\u001b[1;33m,\u001b[0m \u001b[0mtuple\u001b[0m\u001b[1;33m(\u001b[0m\u001b[0mL\u001b[0m\u001b[1;33m)\u001b[0m\u001b[1;33m)\u001b[0m\u001b[1;33m\u001b[0m\u001b[1;33m\u001b[0m\u001b[0m\n\u001b[0m\u001b[0;32m      5\u001b[0m \u001b[0mprint\u001b[0m\u001b[1;33m(\u001b[0m\u001b[0mX\u001b[0m\u001b[1;33m,\u001b[0m\u001b[0mL\u001b[0m\u001b[1;33m)\u001b[0m\u001b[1;33m\u001b[0m\u001b[1;33m\u001b[0m\u001b[0m\n",
      "\u001b[1;32m<ipython-input-68-80a27478f643>\u001b[0m in \u001b[0;36mchanger\u001b[1;34m(a, b)\u001b[0m\n\u001b[0;32m      2\u001b[0m \u001b[1;32mdef\u001b[0m \u001b[0mchanger\u001b[0m\u001b[1;33m(\u001b[0m\u001b[0ma\u001b[0m\u001b[1;33m,\u001b[0m\u001b[0mb\u001b[0m\u001b[1;33m)\u001b[0m\u001b[1;33m:\u001b[0m\u001b[1;33m\u001b[0m\u001b[1;33m\u001b[0m\u001b[0m\n\u001b[0;32m      3\u001b[0m   \u001b[0ma\u001b[0m\u001b[1;33m=\u001b[0m\u001b[1;36m2\u001b[0m\u001b[1;33m\u001b[0m\u001b[1;33m\u001b[0m\u001b[0m\n\u001b[1;32m----> 4\u001b[1;33m   \u001b[0mb\u001b[0m\u001b[1;33m[\u001b[0m\u001b[1;36m0\u001b[0m\u001b[1;33m]\u001b[0m\u001b[1;33m=\u001b[0m\u001b[1;34m'spam'\u001b[0m\u001b[1;33m\u001b[0m\u001b[1;33m\u001b[0m\u001b[0m\n\u001b[0m\u001b[0;32m      5\u001b[0m \u001b[1;33m\u001b[0m\u001b[0m\n\u001b[0;32m      6\u001b[0m \u001b[0mL\u001b[0m \u001b[1;33m=\u001b[0m \u001b[1;33m[\u001b[0m\u001b[1;36m1\u001b[0m\u001b[1;33m,\u001b[0m \u001b[1;36m2\u001b[0m\u001b[1;33m]\u001b[0m\u001b[1;33m\u001b[0m\u001b[1;33m\u001b[0m\u001b[0m\n",
      "\u001b[1;31mTypeError\u001b[0m: 'tuple' object does not support item assignment"
     ]
    }
   ],
   "source": [
    "#3. Passing a tuple, so changes are errors\n",
    "L = [1, 2]\n",
    "changer(X, tuple(L))\n",
    "print(X,L)"
   ]
  },
  {
   "attachments": {
    "image.png": {
     "image/png": "[encoded data removed]"
    }
   },
   "cell_type": "markdown",
   "metadata": {
    "slideshow": {
     "slide_type": "slide"
    }
   },
   "source": [
    "# Scope Rules\n",
    "* The enclosing module is the global scope.\n",
    "* Each function call defines a new local scope.\n",
    "* Assigned names are local unless declared global. All other names are global or built-in.\n",
    "* LEGB Rule\n",
    "\n",
    "**Local** : Names assigned in any way within a function (def or lambda), and not declared global in that function\n",
    "\n",
    "**Enclosing-function** : Names assigned in the local scope of any and all statically enclosing functions (def or lambda), from inner to outer\n",
    "\n",
    "**Global (module)** : Names assigned at the top-level of a module file, or by executing a global statement in a def within the file\n",
    "\n",
    "**Built-in (Python)** : Names preassigned in the built-in names module: open, range, SyntaxError, etc\n",
    "\n",
    "<div>\n",
    "<img src=\"attachment:image.png\" width=\"40%\"/>\n",
    "</div>"
   ]
  },
  {
   "cell_type": "markdown",
   "metadata": {
    "slideshow": {
     "slide_type": "subslide"
    }
   },
   "source": [
    "# GLOBAL Statement\n",
    "* If you want to assign a value to a name defined outside the function, then you have to tell Python that the name is not local, but it is global."
   ]
  },
  {
   "cell_type": "code",
   "execution_count": null,
   "metadata": {
    "slideshow": {
     "slide_type": "fragment"
    }
   },
   "outputs": [],
   "source": [
    "# Filename: func_global.py\n",
    "def func():\n",
    "  global x\n",
    "  print 'x is', x\n",
    "  x = 2\n",
    "  print 'Changed global x to', x\n",
    "\n",
    "x = 50\n",
    "func()\n",
    "print 'Value of x is', x"
   ]
  },
  {
   "cell_type": "markdown",
   "metadata": {
    "slideshow": {
     "slide_type": "subslide"
    }
   },
   "source": [
    "# GLOBAL Statement\n",
    "* Global names must be declared only if they are assigned in a function. This does not apply to sub-objects\n",
    "* Global names may be referenced without being declared."
   ]
  },
  {
   "cell_type": "code",
   "execution_count": 76,
   "metadata": {
    "slideshow": {
     "slide_type": "fragment"
    }
   },
   "outputs": [
    {
     "ename": "SyntaxError",
     "evalue": "name 'C' is used prior to global declaration (cell_name, line 12)",
     "output_type": "error",
     "traceback": [
      "\u001b[1;36m  File \u001b[1;32m\"cell_name\"\u001b[1;36m, line \u001b[1;32m12\u001b[0m\n\u001b[1;31mSyntaxError\u001b[0m\u001b[1;31m:\u001b[0m name 'C' is used prior to global declaration\n"
     ]
    }
   ],
   "source": [
    "A = [1, 2]; B = []\n",
    "C = {'Ann':'M'}\n",
    "def F(X) :\n",
    "  print(\"Before: X=\", X)\n",
    "  X.append(A)\n",
    "  print(\"After: X=\", X)\n",
    "  C['Ann'] = 'F' \t\t# allowed to change sub-object\n",
    "  print(\"Before: C=\", C)\n",
    "  global C \t\t# needed to change global C\n",
    "  C = {} \t\t# illegal without global stmt\n",
    "  print(\"After: C=\", C)\n",
    "\n",
    "F(B) \t\t\t# changes B to [1, 2]"
   ]
  },
  {
   "cell_type": "markdown",
   "metadata": {
    "slideshow": {
     "slide_type": "subslide"
    }
   },
   "source": [
    "# Scope Rules Example (1)"
   ]
  },
  {
   "cell_type": "code",
   "execution_count": 85,
   "metadata": {
    "slideshow": {
     "slide_type": "fragment"
    }
   },
   "outputs": [
    {
     "name": "stdout",
     "output_type": "stream",
     "text": [
      "local value [ a_var inside a_func() ]\n",
      "global value [ a_var outside a_func() ]\n"
     ]
    }
   ],
   "source": [
    "a_var = 'global value'\n",
    "\n",
    "def a_func():\n",
    "    a_var = 'local value'\n",
    "    print(a_var, '[ a_var inside a_func() ]')\n",
    "\n",
    "a_func()\n",
    "print(a_var, '[ a_var outside a_func() ]')"
   ]
  },
  {
   "cell_type": "markdown",
   "metadata": {
    "slideshow": {
     "slide_type": "subslide"
    }
   },
   "source": [
    "# Scope Rules Example (2)"
   ]
  },
  {
   "cell_type": "code",
   "execution_count": 86,
   "metadata": {
    "slideshow": {
     "slide_type": "fragment"
    }
   },
   "outputs": [
    {
     "name": "stdout",
     "output_type": "stream",
     "text": [
      "120\n"
     ]
    }
   ],
   "source": [
    "def outer(n) :\n",
    "  def inner(n) :\n",
    "    if n > 1 :\n",
    "      return n * inner(n-1) \t# finds name by\n",
    "    else:\n",
    "      return 1\n",
    "  return inner(n)\n",
    "print(outer(5))"
   ]
  },
  {
   "cell_type": "markdown",
   "metadata": {
    "slideshow": {
     "slide_type": "subslide"
    }
   },
   "source": [
    "# RETURN Statement\n",
    "* **return** statements can return any type of object."
   ]
  },
  {
   "cell_type": "code",
   "execution_count": 98,
   "metadata": {
    "slideshow": {
     "slide_type": "fragment"
    }
   },
   "outputs": [
    {
     "name": "stdout",
     "output_type": "stream",
     "text": [
      "['dfas'] a\n",
      "['dfas'] aaa\n"
     ]
    }
   ],
   "source": [
    "def wow(x, y) :\n",
    "  x = 2 * x\n",
    "  y = 3 * y\n",
    "  return x, y\n",
    "X = ['Hi']\n",
    "Y = ('a')\n",
    "A, B = wow(X, Y)\n",
    "print(A, B)"
   ]
  },
  {
   "cell_type": "markdown",
   "metadata": {
    "slideshow": {
     "slide_type": "slide"
    }
   },
   "source": [
    "# Argument Matching (1)\n",
    "* Python supports the following types of argument matching:\n",
    "  * <font color='red'>**Positional**</font> – normal left to right matching\n",
    "  * <font color='red'>**Keywords**</font> – matched by argument name\n",
    "  * <font color='red'>**Varargs**</font> – what remains after positional and keyword arguments matched\n",
    "  * <font color='red'>**Defaults**</font> – specified values for missing arguments"
   ]
  },
  {
   "cell_type": "markdown",
   "metadata": {
    "slideshow": {
     "slide_type": "slide"
    }
   },
   "source": [
    "# Argument Matching Forms\n",
    "* Click to edit Master\n",
    " <div>\n",
    "<img src=\"https://raw.githubusercontent.com/LiqingZhang-um/Markdown-Photos-/master/Picture4.png\" width=\"100%\"/>\n",
    "</div>"
   ]
  },
  {
   "cell_type": "markdown",
   "metadata": {
    "slideshow": {
     "slide_type": "subslide"
    }
   },
   "source": [
    "# Default arguments"
   ]
  },
  {
   "cell_type": "code",
   "execution_count": 99,
   "metadata": {
    "slideshow": {
     "slide_type": "fragment"
    }
   },
   "outputs": [
    {
     "name": "stdout",
     "output_type": "stream",
     "text": [
      "Name:  miki\n",
      "Age  50\n",
      "Name:  miki\n",
      "Age  35\n"
     ]
    }
   ],
   "source": [
    "# printinfo.py\n",
    "def printinfo( name, age = 35 ):\n",
    "  \"This prints a passed info into this function\"\n",
    "  print(\"Name: \", name);\n",
    "  print(\"Age \", age);\n",
    "  return;\n",
    "\n",
    "# Now you can call printinfo function\n",
    "printinfo( age=50, name=\"miki\" );\n",
    "printinfo( name=\"miki\" );"
   ]
  },
  {
   "cell_type": "markdown",
   "metadata": {
    "slideshow": {
     "slide_type": "fragment"
    }
   },
   "source": [
    "# A more elaborate example"
   ]
  },
  {
   "cell_type": "code",
   "execution_count": 101,
   "metadata": {
    "slideshow": {
     "slide_type": "fragment"
    }
   },
   "outputs": [
    {
     "name": "stdout",
     "output_type": "stream",
     "text": [
      "[5, 'defval2', (), {'unknown': 4}]\n",
      "[5, 6, (7,), {'unknown': 4}]\n"
     ]
    }
   ],
   "source": [
    "def w(p1='defval1', p2='defval2', *pa, **na):\n",
    "  print([p1, p2, pa, na])\n",
    "w(5, unknown=4)\n",
    "w(5, 6, 7, unknown=4)"
   ]
  },
  {
   "cell_type": "markdown",
   "metadata": {
    "slideshow": {
     "slide_type": "fragment"
    }
   },
   "source": [
    "* Note: Positional arguments must appear before keyword arguments in call to function. Thus, the following is illegal:"
   ]
  },
  {
   "cell_type": "code",
   "execution_count": 103,
   "metadata": {
    "slideshow": {
     "slide_type": "fragment"
    }
   },
   "outputs": [
    {
     "ename": "SyntaxError",
     "evalue": "positional argument follows keyword argument (<ipython-input-103-eb8b981cf5da>, line 1)",
     "output_type": "error",
     "traceback": [
      "\u001b[1;36m  File \u001b[1;32m\"<ipython-input-103-eb8b981cf5da>\"\u001b[1;36m, line \u001b[1;32m1\u001b[0m\n\u001b[1;33m    w(unknown='a', 5)\u001b[0m\n\u001b[1;37m                  ^\u001b[0m\n\u001b[1;31mSyntaxError\u001b[0m\u001b[1;31m:\u001b[0m positional argument follows keyword argument\n"
     ]
    }
   ],
   "source": [
    "w(unknown='a', 5)"
   ]
  },
  {
   "cell_type": "markdown",
   "metadata": {
    "slideshow": {
     "slide_type": "slide"
    }
   },
   "source": [
    "# LAMBDA Expressions (1)\n",
    "* **lambda** expressions define anonymous functions.\n",
    "* They can appear anywhere an expression can appear, unlike statements that are limited.\n",
    "* They return a value.\n",
    "* They have the form:\n",
    "  * lambda arg1, arg2, … , argN : <expression>\n",
    "* Example:"
   ]
  },
  {
   "cell_type": "code",
   "execution_count": 104,
   "metadata": {
    "slideshow": {
     "slide_type": "fragment"
    }
   },
   "outputs": [
    {
     "name": "stdout",
     "output_type": "stream",
     "text": [
      "12\n"
     ]
    }
   ],
   "source": [
    "F = lambda a1=3, a2=4 : a1 * a2\n",
    "F(2,4) \t\t# returns 8\n",
    "print(F(3))\t# keyword & default args allowed"
   ]
  },
  {
   "cell_type": "markdown",
   "metadata": {
    "slideshow": {
     "slide_type": "subslide"
    }
   },
   "source": [
    "# LAMBDA Expressions (2)\n",
    "* One step further…"
   ]
  },
  {
   "cell_type": "code",
   "execution_count": 116,
   "metadata": {
    "slideshow": {
     "slide_type": "fragment"
    }
   },
   "outputs": [
    {
     "name": "stdout",
     "output_type": "stream",
     "text": [
      "[18, 9, 24, 12, 27]\n",
      "[14, 46, 28, 54, 44, 58, 26, 34, 64]\n"
     ]
    }
   ],
   "source": [
    "foo = [2, 18, 9, 22, 17, 24, 8, 12, 27]\n",
    "# filtering\n",
    "print(list(filter(lambda x: x % 3 == 0, foo)))"
   ]
  },
  {
   "cell_type": "code",
   "execution_count": null,
   "metadata": {
    "slideshow": {
     "slide_type": "fragment"
    }
   },
   "outputs": [],
   "source": [
    "# mapping, similar as a for loop\n",
    "print(list(map(lambda x: x * 2 + 10, foo))) "
   ]
  },
  {
   "cell_type": "markdown",
   "metadata": {
    "slideshow": {
     "slide_type": "subslide"
    }
   },
   "source": [
    "# LAMBDA Expressions (3)\n",
    "*  <font color='blue'>LAMBDA</font> may give you very concise codes but it may also make your codes unreadable. \n",
    "* For instance, \n",
    "    * Map function\n",
    "    * print [x * 2 + 10 for x in foo]\n",
    "    \n",
    "    \n",
    "    * Filter function\n",
    "    * print [x for x in foo if x % 3 == 0]"
   ]
  },
  {
   "cell_type": "markdown",
   "metadata": {
    "slideshow": {
     "slide_type": "subslide"
    }
   },
   "source": [
    "# MAP Built-in\n",
    "* The **map** function applies the same operation to each element in a sequence.\n",
    "* **map** has the form:\n",
    "  * map(fcn, sequence)\n",
    "* Example:"
   ]
  },
  {
   "cell_type": "code",
   "execution_count": 117,
   "metadata": {
    "slideshow": {
     "slide_type": "fragment"
    }
   },
   "outputs": [
    {
     "data": {
      "text/plain": [
       "[0.5, 1.0, 1.5]"
      ]
     },
     "execution_count": 117,
     "metadata": {},
     "output_type": "execute_result"
    }
   ],
   "source": [
    "iter=map(lambda arg : arg / 2, (1, 2, 3))\n",
    "list(iter)"
   ]
  },
  {
   "cell_type": "markdown",
   "metadata": {
    "slideshow": {
     "slide_type": "subslide"
    }
   },
   "source": [
    "# More examples of Map, Filter, Lambda"
   ]
  },
  {
   "cell_type": "code",
   "execution_count": 126,
   "metadata": {
    "slideshow": {
     "slide_type": "fragment"
    }
   },
   "outputs": [
    {
     "name": "stdout",
     "output_type": "stream",
     "text": [
      "['python', 'java']\n",
      "[100, 80]\n",
      "[True, False]\n"
     ]
    }
   ],
   "source": [
    "dict_a = [{'name': 'python', 'points': 10}, {'name': 'java', 'points': 8}]\n",
    "print(list(map(lambda x : x['name'], dict_a))) # Output: ['python', 'java']\n",
    "print(list(map(lambda x : x['points']*10,  dict_a))) # Output: [100, 80]\n",
    "print(list(map(lambda x : x['name'] == \"python\", dict_a))) # Output: [True, False]"
   ]
  },
  {
   "cell_type": "code",
   "execution_count": 127,
   "metadata": {
    "slideshow": {
     "slide_type": "fragment"
    }
   },
   "outputs": [
    {
     "name": "stdout",
     "output_type": "stream",
     "text": [
      "[2, 20]\n"
     ]
    }
   ],
   "source": [
    "def even_fn(x):\n",
    "  if x % 2 == 0:\n",
    "    return True\n",
    "  return False\n",
    "print(list(filter(even_fn, [1, 3, 2, 5, 20, 21])))"
   ]
  },
  {
   "cell_type": "code",
   "execution_count": 128,
   "metadata": {
    "slideshow": {
     "slide_type": "fragment"
    }
   },
   "outputs": [
    {
     "name": "stdout",
     "output_type": "stream",
     "text": [
      "[2, 20]\n"
     ]
    }
   ],
   "source": [
    "print(list(filter(lambda x: x % 2 == 0, [1, 3, 2, 5, 20, 21])))"
   ]
  },
  {
   "cell_type": "code",
   "execution_count": 130,
   "metadata": {
    "slideshow": {
     "slide_type": "subslide"
    }
   },
   "outputs": [],
   "source": [
    "# Assume you have an Employee class that looks like this\n",
    "class Employee:\n",
    "    def __init__(self, name, age):\n",
    "        self.name = name\n",
    "        self.age = age"
   ]
  },
  {
   "cell_type": "code",
   "execution_count": 131,
   "metadata": {
    "slideshow": {
     "slide_type": "fragment"
    }
   },
   "outputs": [],
   "source": [
    "Alex = Employee('Alex', 20)\n",
    "Amanda = Employee('Amanda', 30)\n",
    "David = Employee('David', 15)\n",
    "L = [Alex, Amanda, David]"
   ]
  },
  {
   "cell_type": "code",
   "execution_count": 134,
   "metadata": {
    "slideshow": {
     "slide_type": "fragment"
    }
   },
   "outputs": [
    {
     "name": "stdout",
     "output_type": "stream",
     "text": [
      "['David', 'Alex', 'Amanda']\n"
     ]
    }
   ],
   "source": [
    "L.sort(key=lambda x: x.age)\n",
    "print([item.name for item in L])"
   ]
  },
  {
   "cell_type": "markdown",
   "metadata": {
    "slideshow": {
     "slide_type": "subslide"
    }
   },
   "source": [
    "# The pros and cons of lambda\n",
    "* The main ways lambda expressions are different from def:\n",
    "    * They can be immediately passed around (no variable needed)\n",
    "    * They can only have a single line of code within them\n",
    "    * They return automatically\n",
    "    * They can’t have a docstring and they don’t have a name\n",
    "    * They use a different and unfamiliar syntax"
   ]
  },
  {
   "cell_type": "markdown",
   "metadata": {
    "slideshow": {
     "slide_type": "subslide"
    }
   },
   "source": [
    "# Misuse: needless function "
   ]
  },
  {
   "cell_type": "code",
   "execution_count": 146,
   "metadata": {
    "slideshow": {
     "slide_type": "fragment"
    }
   },
   "outputs": [
    {
     "name": "stdout",
     "output_type": "stream",
     "text": [
      "[-8, -37, 90, -23, 4, -92, 84, 74, 23, -63]\n",
      "[4, -8, -23, 23, -37, -63, 74, 84, 90, -92]\n"
     ]
    }
   ],
   "source": [
    "import random\n",
    "numbers = random.sample(range(-100,100), 10)\n",
    "sorted_numbers = sorted(numbers, key=lambda n: abs(n))\n",
    "print(numbers)\n",
    "print(sorted_numbers)"
   ]
  },
  {
   "cell_type": "code",
   "execution_count": 148,
   "metadata": {
    "slideshow": {
     "slide_type": "fragment"
    }
   },
   "outputs": [
    {
     "name": "stdout",
     "output_type": "stream",
     "text": [
      "[93, 39, 97, 94, -72, 69, -99, 74, 32, -96]\n",
      "[32, 39, 69, -72, 74, 93, 94, -96, 97, -99]\n"
     ]
    }
   ],
   "source": [
    "numbers = random.sample(range(-100,100), 10)\n",
    "sorted_numbers = sorted(numbers, key=abs)\n",
    "print(numbers)\n",
    "print(sorted_numbers)"
   ]
  },
  {
   "cell_type": "markdown",
   "metadata": {
    "slideshow": {
     "slide_type": "subslide"
    }
   },
   "source": [
    "# Overuse: simple, but non-trivial functions"
   ]
  },
  {
   "cell_type": "code",
   "execution_count": 153,
   "metadata": {
    "slideshow": {
     "slide_type": "fragment"
    }
   },
   "outputs": [
    {
     "name": "stdout",
     "output_type": "stream",
     "text": [
      "['Cyan', 'Purple', 'Salmon', 'Goldenrod', 'Turquoise']\n"
     ]
    }
   ],
   "source": [
    "# difficult to read\n",
    "colors = [\"Goldenrod\", \"Purple\", \"Salmon\", \"Turquoise\", \"Cyan\"]\n",
    "colors_by_length = sorted(colors, key=lambda c: (len(c), c.casefold()))\n",
    "print(colors_by_length)"
   ]
  },
  {
   "cell_type": "code",
   "execution_count": 152,
   "metadata": {
    "slideshow": {
     "slide_type": "fragment"
    }
   },
   "outputs": [],
   "source": [
    "# easier to read\n",
    "def length_and_alphabetical(string):\n",
    "    \"\"\"Return sort key: length first, then case-normalized string.\"\"\"\n",
    "    return (len(string), string.casefold())\n",
    "\n",
    "colors = [\"Goldenrod\", \"Purple\", \"Salmon\", \"Turquoise\", \"Cyan\"]\n",
    "colors_by_length = sorted(colors, key=length_and_alphabetical)\n",
    "print(colors_by_length)"
   ]
  },
  {
   "cell_type": "markdown",
   "metadata": {
    "slideshow": {
     "slide_type": "subslide"
    }
   },
   "source": [
    "# Overuse: when multiple lines would help"
   ]
  },
  {
   "cell_type": "code",
   "execution_count": 158,
   "metadata": {
    "slideshow": {
     "slide_type": "fragment"
    }
   },
   "outputs": [
    {
     "name": "stdout",
     "output_type": "stream",
     "text": [
      "[((3, 4), 'green'), ((1, 2), 'red')]\n"
     ]
    }
   ],
   "source": [
    "points = [((1, 2), 'red'), ((3, 4), 'green')]\n",
    "points_by_color = sorted(points, key=lambda p: p[1]) # people may completely forget what [1] indicates for\n",
    "print(points_by_color)"
   ]
  },
  {
   "cell_type": "code",
   "execution_count": 157,
   "metadata": {
    "slideshow": {
     "slide_type": "fragment"
    }
   },
   "outputs": [
    {
     "name": "stdout",
     "output_type": "stream",
     "text": [
      "[((3, 4), 'green'), ((1, 2), 'red')]\n"
     ]
    }
   ],
   "source": [
    "def color_of_point(point):\n",
    "    \"\"\"Return the color of the given point.\"\"\"\n",
    "    (x, y), color = point\n",
    "    return color\n",
    "\n",
    "points = [((1, 2), 'red'), ((3, 4), 'green')]\n",
    "points_by_color = sorted(points, key=color_of_point)\n",
    "print(points_by_color)"
   ]
  },
  {
   "cell_type": "markdown",
   "metadata": {
    "slideshow": {
     "slide_type": "subslide"
    }
   },
   "source": [
    "# Overuse: lambda with map and filter\n",
    "* https://treyhunner.com/2015/12/python-list-comprehensions-now-in-color/"
   ]
  },
  {
   "cell_type": "code",
   "execution_count": 159,
   "metadata": {
    "slideshow": {
     "slide_type": "fragment"
    }
   },
   "outputs": [],
   "source": [
    "numbers = [2, 1, 3, 4, 7, 11, 18]\n",
    "squared_numbers = map(lambda n: n**2, numbers)\n",
    "odd_numbers = filter(lambda n: n % 2 == 1, numbers)"
   ]
  },
  {
   "cell_type": "code",
   "execution_count": 160,
   "metadata": {
    "slideshow": {
     "slide_type": "fragment"
    }
   },
   "outputs": [],
   "source": [
    "numbers = [2, 1, 3, 4, 7, 11, 18]\n",
    "squared_numbers = (n**2 for n in numbers)\n",
    "odd_numbers = (n for n in numbers if n % 2 == 1)"
   ]
  },
  {
   "cell_type": "markdown",
   "metadata": {
    "slideshow": {
     "slide_type": "subslide"
    }
   },
   "source": [
    "# Misuse: sometimes you don’t even need to pass a function"
   ]
  },
  {
   "cell_type": "code",
   "execution_count": 162,
   "metadata": {
    "slideshow": {
     "slide_type": "fragment"
    }
   },
   "outputs": [
    {
     "name": "stdout",
     "output_type": "stream",
     "text": [
      "46\n"
     ]
    }
   ],
   "source": [
    "from functools import reduce\n",
    "numbers = [2, 1, 3, 4, 7, 11, 18]\n",
    "total = reduce(lambda x, y: x + y, numbers)\n",
    "print(total)"
   ]
  },
  {
   "cell_type": "code",
   "execution_count": 163,
   "metadata": {
    "slideshow": {
     "slide_type": "fragment"
    }
   },
   "outputs": [],
   "source": [
    "numbers = [2, 1, 3, 4, 7, 11, 18]\n",
    "total = sum(numbers)\n",
    "print(total)"
   ]
  },
  {
   "cell_type": "markdown",
   "metadata": {
    "slideshow": {
     "slide_type": "subslide"
    }
   },
   "source": [
    "# Overuse: using lambda for very simple operations"
   ]
  },
  {
   "cell_type": "code",
   "execution_count": 170,
   "metadata": {
    "slideshow": {
     "slide_type": "subslide"
    }
   },
   "outputs": [
    {
     "name": "stdout",
     "output_type": "stream",
     "text": [
      "33264\n"
     ]
    }
   ],
   "source": [
    "from functools import reduce\n",
    "numbers = [2, 1, 3, 4, 7, 11, 18]\n",
    "product = reduce(lambda x, y: x * y, numbers, 1)\n",
    "print(product)\n",
    "\n",
    "# The above lambda expression is necessary because we’re not allowed to pass the * operator around as if it were a function. If there was a function that was equivalent to *, we could pass it into the reduce function instead."
   ]
  },
  {
   "cell_type": "code",
   "execution_count": 171,
   "metadata": {
    "slideshow": {
     "slide_type": "fragment"
    }
   },
   "outputs": [
    {
     "name": "stdout",
     "output_type": "stream",
     "text": [
      "33264\n"
     ]
    }
   ],
   "source": [
    "from functools import reduce\n",
    "from operator import mul\n",
    "numbers = [2, 1, 3, 4, 7, 11, 18]\n",
    "product = reduce(mul, numbers, 1)\n",
    "print(product)"
   ]
  },
  {
   "cell_type": "markdown",
   "metadata": {
    "slideshow": {
     "slide_type": "subslide"
    }
   },
   "source": [
    "# Overuse: when higher order functions add confusion"
   ]
  },
  {
   "cell_type": "code",
   "execution_count": 173,
   "metadata": {
    "slideshow": {
     "slide_type": "fragment"
    }
   },
   "outputs": [
    {
     "name": "stdout",
     "output_type": "stream",
     "text": [
      "33264\n"
     ]
    }
   ],
   "source": [
    "from functools import reduce\n",
    "numbers = [2, 1, 3, 4, 7, 11, 18]\n",
    "product = reduce(lambda x, y: x * y, numbers, 1)\n",
    "print(product)"
   ]
  },
  {
   "cell_type": "code",
   "execution_count": 175,
   "metadata": {
    "slideshow": {
     "slide_type": "fragment"
    }
   },
   "outputs": [
    {
     "name": "stdout",
     "output_type": "stream",
     "text": [
      "33264\n"
     ]
    }
   ],
   "source": [
    "def multiply_all(numbers):\n",
    "    \"\"\"Return the product of the given numbers.\"\"\"\n",
    "    product = 1\n",
    "    for n in numbers:\n",
    "        product *= n\n",
    "    return product\n",
    "\n",
    "numbers = [2, 1, 3, 4, 7, 11, 18]\n",
    "product = multiply_all(numbers)\n",
    "print(product)\n",
    "\n",
    "# More readable\n",
    "# In general, passing one function into another function, tends to make code more complex, which can hurt readability."
   ]
  },
  {
   "cell_type": "markdown",
   "metadata": {
    "slideshow": {
     "slide_type": "subslide"
    }
   },
   "source": [
    "# Function Gotchas\n",
    "* Local names detected statically."
   ]
  },
  {
   "cell_type": "code",
   "execution_count": 122,
   "metadata": {
    "slideshow": {
     "slide_type": "fragment"
    }
   },
   "outputs": [
    {
     "ename": "UnboundLocalError",
     "evalue": "local variable 'B' referenced before assignment",
     "output_type": "error",
     "traceback": [
      "\u001b[1;31m---------------------------------------------------------------------------\u001b[0m",
      "\u001b[1;31mUnboundLocalError\u001b[0m                         Traceback (most recent call last)",
      "\u001b[1;32m<ipython-input-122-aea85380a983>\u001b[0m in \u001b[0;36m<module>\u001b[1;34m\u001b[0m\n\u001b[0;32m      2\u001b[0m   \u001b[0mprint\u001b[0m\u001b[1;33m(\u001b[0m\u001b[0mB\u001b[0m\u001b[1;33m)\u001b[0m \u001b[1;31m# error – B not yet defined\u001b[0m\u001b[1;33m\u001b[0m\u001b[1;33m\u001b[0m\u001b[0m\n\u001b[0;32m      3\u001b[0m   \u001b[0mB\u001b[0m \u001b[1;33m=\u001b[0m \u001b[1;36m2\u001b[0m\u001b[1;33m;\u001b[0m\u001b[1;33m\u001b[0m\u001b[1;33m\u001b[0m\u001b[0m\n\u001b[1;32m----> 4\u001b[1;33m \u001b[0mf\u001b[0m\u001b[1;33m(\u001b[0m\u001b[1;33m)\u001b[0m\u001b[1;33m\u001b[0m\u001b[1;33m\u001b[0m\u001b[0m\n\u001b[0m",
      "\u001b[1;32m<ipython-input-122-aea85380a983>\u001b[0m in \u001b[0;36mf\u001b[1;34m()\u001b[0m\n\u001b[0;32m      1\u001b[0m \u001b[1;32mdef\u001b[0m \u001b[0mf\u001b[0m\u001b[1;33m(\u001b[0m\u001b[1;33m)\u001b[0m\u001b[1;33m:\u001b[0m\u001b[1;33m\u001b[0m\u001b[1;33m\u001b[0m\u001b[0m\n\u001b[1;32m----> 2\u001b[1;33m   \u001b[0mprint\u001b[0m\u001b[1;33m(\u001b[0m\u001b[0mB\u001b[0m\u001b[1;33m)\u001b[0m \u001b[1;31m# error – B not yet defined\u001b[0m\u001b[1;33m\u001b[0m\u001b[1;33m\u001b[0m\u001b[0m\n\u001b[0m\u001b[0;32m      3\u001b[0m   \u001b[0mB\u001b[0m \u001b[1;33m=\u001b[0m \u001b[1;36m2\u001b[0m\u001b[1;33m;\u001b[0m\u001b[1;33m\u001b[0m\u001b[1;33m\u001b[0m\u001b[0m\n\u001b[0;32m      4\u001b[0m \u001b[0mf\u001b[0m\u001b[1;33m(\u001b[0m\u001b[1;33m)\u001b[0m\u001b[1;33m\u001b[0m\u001b[1;33m\u001b[0m\u001b[0m\n",
      "\u001b[1;31mUnboundLocalError\u001b[0m: local variable 'B' referenced before assignment"
     ]
    }
   ],
   "source": [
    "def f():\n",
    "  print(B) # error – B not yet defined\n",
    "  B = 2;\n",
    "f()"
   ]
  },
  {
   "cell_type": "markdown",
   "metadata": {
    "slideshow": {
     "slide_type": "fragment"
    }
   },
   "source": [
    "* Nested functions are not nested scopes.\n",
    "* Default values are saved when def is run, not when the function is called."
   ]
  }
 ],
 "metadata": {
  "celltoolbar": "Slideshow",
  "kernelspec": {
   "display_name": "Python 3",
   "language": "python",
   "name": "python3"
  },
  "language_info": {
   "codemirror_mode": {
    "name": "ipython",
    "version": 3
   },
   "file_extension": ".py",
   "mimetype": "text/x-python",
   "name": "python",
   "nbconvert_exporter": "python",
   "pygments_lexer": "ipython3",
   "version": "3.7.1"
  }
 },
 "nbformat": 4,
 "nbformat_minor": 2
}
