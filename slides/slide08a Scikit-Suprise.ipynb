{
 "cells": [
  {
   "cell_type": "code",
   "execution_count": 4,
   "metadata": {},
   "outputs": [
    {
     "name": "stdout",
     "output_type": "stream",
     "text": [
      "Evaluating RMSE, MAE of algorithm SVD on 5 split(s).\n",
      "\n",
      "                  Fold 1  Fold 2  Fold 3  Fold 4  Fold 5  Mean    Std     \n",
      "RMSE (testset)    0.9454  0.9370  0.9332  0.9342  0.9356  0.9371  0.0044  \n",
      "MAE (testset)     0.7450  0.7377  0.7335  0.7357  0.7396  0.7383  0.0039  \n",
      "Fit time          4.11    4.22    4.15    4.16    4.18    4.16    0.04    \n",
      "Test time         0.15    0.14    0.13    0.14    0.14    0.14    0.00    \n"
     ]
    },
    {
     "data": {
      "text/plain": [
       "{'test_rmse': array([0.94543992, 0.93704235, 0.93322932, 0.93418546, 0.93555815]),\n",
       " 'test_mae': array([0.74497963, 0.73768276, 0.73349507, 0.73569376, 0.73955615]),\n",
       " 'fit_time': (4.108972787857056,\n",
       "  4.216789722442627,\n",
       "  4.147968053817749,\n",
       "  4.158138036727905,\n",
       "  4.1806159019470215),\n",
       " 'test_time': (0.14769315719604492,\n",
       "  0.13933110237121582,\n",
       "  0.13431072235107422,\n",
       "  0.141463041305542,\n",
       "  0.13897991180419922)}"
      ]
     },
     "execution_count": 4,
     "metadata": {},
     "output_type": "execute_result"
    }
   ],
   "source": [
    "from surprise import SVD\n",
    "from surprise import Dataset\n",
    "from surprise.model_selection import cross_validate\n",
    "\n",
    "# Load the movielens-100k dataset (download it if needed).\n",
    "data = Dataset.load_builtin('ml-100k')\n",
    "\n",
    "\n",
    "# Use the famous SVD algorithm.\n",
    "algo = SVD()\n",
    "\n",
    "# Run 5-fold cross-validation and print results.\n",
    "cross_validate(algo, data, measures=['RMSE', 'MAE'], cv=5, verbose=True)"
   ]
  }
 ],
 "metadata": {
  "kernelspec": {
   "display_name": "Python 3",
   "language": "python",
   "name": "python3"
  },
  "language_info": {
   "codemirror_mode": {
    "name": "ipython",
    "version": 3
   },
   "file_extension": ".py",
   "mimetype": "text/x-python",
   "name": "python",
   "nbconvert_exporter": "python",
   "pygments_lexer": "ipython3",
   "version": "3.7.3"
  }
 },
 "nbformat": 4,
 "nbformat_minor": 2
}
