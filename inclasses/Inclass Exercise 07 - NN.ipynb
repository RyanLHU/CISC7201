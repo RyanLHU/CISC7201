{
 "cells": [
  {
   "cell_type": "markdown",
   "metadata": {},
   "source": [
    "# Inclass exercise 07 - Neural Network "
   ]
  },
  {
   "attachments": {},
   "cell_type": "markdown",
   "metadata": {},
   "source": [
    "### Introduction:\n",
    "\n",
    "**Input dataset contains 4 training samples:**\n",
    "\n",
    "Image 1: X1=[0,0,0,1], y1=0\n",
    "\n",
    "Image 2: X2=[0,0,1,0], y2=0\n",
    "\n",
    "Image 3: X3=[1,1,0,1], y3=1\n",
    "\n",
    "Image 4: X4=[1,1,0,1], y4=1\n",
    "\n",
    "Yd=[y1,y2,y3,y4]=[0,0,1,1]\n",
    "\n",
    "**Initial model**\n",
    "\n",
    "$W_{hidden}$=Wh=[[0.5, 0.7, 0.3, 0.3],[0.3, 0.2, 0.6, 0.4], [0.2, 0.1, 0.1, 0.3]]\n",
    "\n",
    "$W_{output}$=Wo=[[0.4, 0.8, 0.7],[0.6, 0.2, 0.3]]\n",
    "\n",
    "**Learning rate** \n",
    "\n",
    "$\\eta=0.1$"
   ]
  },
  {
   "cell_type": "markdown",
   "metadata": {},
   "source": [
    "### Step 1. Calculate the estimated output of image 1, $X^1$"
   ]
  },
  {
   "cell_type": "code",
   "execution_count": 5,
   "metadata": {},
   "outputs": [
    {
     "ename": "NameError",
     "evalue": "name 'Wh' is not defined",
     "output_type": "error",
     "traceback": [
      "\u001b[1;31m---------------------------------------------------------------------------\u001b[0m",
      "\u001b[1;31mNameError\u001b[0m                                 Traceback (most recent call last)",
      "\u001b[1;32m<ipython-input-5-1ba99ecbcda3>\u001b[0m in \u001b[0;36m<module>\u001b[1;34m\u001b[0m\n\u001b[0;32m     15\u001b[0m \u001b[1;31m# [your code to create matrices Wh and Wo]\u001b[0m\u001b[1;33m\u001b[0m\u001b[1;33m\u001b[0m\u001b[1;33m\u001b[0m\u001b[0m\n\u001b[0;32m     16\u001b[0m \u001b[0mX1\u001b[0m\u001b[1;33m=\u001b[0m\u001b[1;33m[\u001b[0m\u001b[1;36m0\u001b[0m\u001b[1;33m,\u001b[0m\u001b[1;36m0\u001b[0m\u001b[1;33m,\u001b[0m\u001b[1;36m0\u001b[0m\u001b[1;33m,\u001b[0m\u001b[1;36m1\u001b[0m\u001b[1;33m]\u001b[0m\u001b[1;33m\u001b[0m\u001b[1;33m\u001b[0m\u001b[0m\n\u001b[1;32m---> 17\u001b[1;33m \u001b[0mnn\u001b[0m\u001b[1;33m(\u001b[0m\u001b[0mWh\u001b[0m\u001b[1;33m,\u001b[0m \u001b[0mWo\u001b[0m\u001b[1;33m,\u001b[0m \u001b[0mX1\u001b[0m\u001b[1;33m)\u001b[0m\u001b[1;33m\u001b[0m\u001b[1;33m\u001b[0m\u001b[0m\n\u001b[0m",
      "\u001b[1;31mNameError\u001b[0m: name 'Wh' is not defined"
     ]
    }
   ],
   "source": [
    "import numpy as np\n",
    "\n",
    "def sigmoid(x):\n",
    "    # [your code here]\n",
    "    return \n",
    "    \n",
    "def forward(Wh, Wo, X):\n",
    "    A = sigmoid(np.dot(Wh,X))\n",
    "    # [calculateoutput vector $\\vec{Y}$ here]\n",
    "    Y = ...\n",
    "    \n",
    "    return A, Y\n",
    "\n",
    "# [your code to create matrices Wh and Wo]\n",
    "X1=[0,0,0,1]\n",
    "A, Y = forward(Wh, Wo, X1)"
   ]
  },
  {
   "cell_type": "markdown",
   "metadata": {},
   "source": [
    "### Step 2. Calculate the backpropagation of image 1 - $Wo$"
   ]
  },
  {
   "cell_type": "code",
   "execution_count": 9,
   "metadata": {},
   "outputs": [
    {
     "ename": "SyntaxError",
     "evalue": "invalid syntax (<ipython-input-9-dc269a0ac118>, line 3)",
     "output_type": "error",
     "traceback": [
      "\u001b[1;36m  File \u001b[1;32m\"<ipython-input-9-dc269a0ac118>\"\u001b[1;36m, line \u001b[1;32m3\u001b[0m\n\u001b[1;33m    Delta1 =\u001b[0m\n\u001b[1;37m             ^\u001b[0m\n\u001b[1;31mSyntaxError\u001b[0m\u001b[1;31m:\u001b[0m invalid syntax\n"
     ]
    }
   ],
   "source": [
    "def backpropagation1(Wh, Wo, A, Y, Yd):\n",
    "    # calculate the gradient of error, page 26\n",
    "    Delta1 = \n",
    "    \n",
    "    # update Wo by Delta1 and A\n",
    "    Wo = Wo + ...\n",
    "    \n",
    "    return Wo\n",
    "\n",
    "backpropagation1(Wh, Wo, A, Y, Wd)"
   ]
  },
  {
   "cell_type": "markdown",
   "metadata": {},
   "source": [
    "### Step 3. Calculate the backpropagation of image 1 - $Wh$"
   ]
  },
  {
   "cell_type": "code",
   "execution_count": 8,
   "metadata": {},
   "outputs": [
    {
     "ename": "SyntaxError",
     "evalue": "invalid syntax (<ipython-input-8-411f02e8f944>, line 3)",
     "output_type": "error",
     "traceback": [
      "\u001b[1;36m  File \u001b[1;32m\"<ipython-input-8-411f02e8f944>\"\u001b[1;36m, line \u001b[1;32m3\u001b[0m\n\u001b[1;33m    Delta2 =\u001b[0m\n\u001b[1;37m             ^\u001b[0m\n\u001b[1;31mSyntaxError\u001b[0m\u001b[1;31m:\u001b[0m invalid syntax\n"
     ]
    }
   ],
   "source": [
    "def backpropagation2(Wh, Wo, X, A, Y, Yd):\n",
    "    # calculate the gradient of errors from output layer, page 29\n",
    "    Delta2 = \n",
    "    \n",
    "    # update Wh by Delta and X\n",
    "    Wo = Wo + ...\n",
    "    \n",
    "    return Wo\n",
    "\n",
    "backpropagation2(Wh, Wo, X, A, Y, Wd)"
   ]
  }
 ],
 "metadata": {
  "kernelspec": {
   "display_name": "Python 3",
   "language": "python",
   "name": "python3"
  },
  "language_info": {
   "codemirror_mode": {
    "name": "ipython",
    "version": 3
   },
   "file_extension": ".py",
   "mimetype": "text/x-python",
   "name": "python",
   "nbconvert_exporter": "python",
   "pygments_lexer": "ipython3",
   "version": "3.7.1"
  }
 },
 "nbformat": 4,
 "nbformat_minor": 1
}
