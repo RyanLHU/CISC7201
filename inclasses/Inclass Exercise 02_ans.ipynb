{
 "cells": [
  {
   "cell_type": "markdown",
   "metadata": {
    "slideshow": {
     "slide_type": "slide"
    }
   },
   "source": [
    "1. Replace all odd numbers in arr with -1\n",
    "\n",
    "Input:\n",
    "arr = np.array([0, 1, 2, 3, 4, 5, 6, 7, 8, 9])\n",
    "\n",
    "Desired Output:\n",
    "#>  array([ 0, -1,  2, -1,  4, -1,  6, -1,  8, -1])"
   ]
  },
  {
   "cell_type": "code",
   "execution_count": 3,
   "metadata": {
    "slideshow": {
     "slide_type": "fragment"
    }
   },
   "outputs": [
    {
     "name": "stdout",
     "output_type": "stream",
     "text": [
      "[ 0 -1  2 -1  4 -1  6 -1  8 -1]\n"
     ]
    }
   ],
   "source": [
    "import numpy as np\n",
    "arr = np.array([0, 1, 2, 3, 4, 5, 6, 7, 8, 9])\n",
    "arr[arr % 2 == 1] = -1\n",
    "print(arr)"
   ]
  },
  {
   "cell_type": "markdown",
   "metadata": {
    "slideshow": {
     "slide_type": "slide"
    }
   },
   "source": [
    "2. Stack arrays a and b vertically\n",
    "\n",
    "Input\n",
    "a = np.arange(10).reshape(2,-1)\n",
    "b = np.repeat(1, 10).reshape(2,-1)\n",
    "\n",
    "Desired Output:\n",
    "#> array([[0, 1, 2, 3, 4], [5, 6, 7, 8, 9], [1, 1, 1, 1, 1], [1, 1, 1, 1, 1]])"
   ]
  },
  {
   "cell_type": "code",
   "execution_count": 6,
   "metadata": {
    "slideshow": {
     "slide_type": "fragment"
    }
   },
   "outputs": [
    {
     "data": {
      "text/plain": [
       "array([[0, 1, 2, 3, 4],\n",
       "       [5, 6, 7, 8, 9],\n",
       "       [1, 1, 1, 1, 1],\n",
       "       [1, 1, 1, 1, 1]])"
      ]
     },
     "execution_count": 6,
     "metadata": {},
     "output_type": "execute_result"
    }
   ],
   "source": [
    "import numpy as np\n",
    "a = np.arange(10).reshape(2,-1)\n",
    "b = np.repeat(1, 10).reshape(2,-1)\n",
    "\n",
    "# https://docs.scipy.org/doc/numpy/reference/generated/numpy.concatenate.html\n",
    "np.concatenate([a, b], axis=0)\n",
    "\n",
    "# https://docs.scipy.org/doc/numpy/reference/generated/numpy.vstack.html\n",
    "np.vstack([a, b])\n",
    "\n",
    "# https://docs.scipy.org/doc/numpy/reference/generated/numpy.r_.html\n",
    "np.r_[a, b]"
   ]
  },
  {
   "cell_type": "markdown",
   "metadata": {
    "slideshow": {
     "slide_type": "slide"
    }
   },
   "source": [
    "3. Get the common items between a and b\n",
    "\n",
    "Input:\n",
    "a = np.array([1,2,3,2,3,4,3,4,5,6])\n",
    "b = np.array([7,2,10,2,7,4,9,4,9,8])\n",
    "\n",
    "Desired Output:\n",
    "array([2, 4])"
   ]
  },
  {
   "cell_type": "code",
   "execution_count": 1,
   "metadata": {
    "slideshow": {
     "slide_type": "fragment"
    }
   },
   "outputs": [
    {
     "data": {
      "text/plain": [
       "array([2, 4])"
      ]
     },
     "execution_count": 1,
     "metadata": {},
     "output_type": "execute_result"
    }
   ],
   "source": [
    "import numpy as np\n",
    "a = np.array([1,2,3,2,3,4,3,4,5,6])\n",
    "b = np.array([7,2,10,2,7,4,9,4,9,8])\n",
    "\n",
    "# https://docs.scipy.org/doc/numpy/reference/generated/numpy.intersect1d.html\n",
    "np.intersect1d(a,b)"
   ]
  },
  {
   "cell_type": "markdown",
   "metadata": {
    "slideshow": {
     "slide_type": "slide"
    }
   },
   "source": [
    "4. Swap columns 1 and 2 in the array arr.\n",
    "\n",
    "arr = np.arange(9).reshape(3,3)\n",
    "arr"
   ]
  },
  {
   "cell_type": "code",
   "execution_count": 7,
   "metadata": {
    "slideshow": {
     "slide_type": "fragment"
    }
   },
   "outputs": [
    {
     "name": "stdout",
     "output_type": "stream",
     "text": [
      "[[0 1 2]\n",
      " [3 4 5]\n",
      " [6 7 8]]\n",
      "[[0 2 1]\n",
      " [3 5 4]\n",
      " [6 8 7]]\n"
     ]
    }
   ],
   "source": [
    "import numpy as np\n",
    "arr = np.arange(9).reshape(3,3)\n",
    "print(arr)\n",
    "\n",
    "arr[:,[1, 2]] = arr[:,[2, 1]]\n",
    "print(arr)"
   ]
  },
  {
   "cell_type": "markdown",
   "metadata": {
    "slideshow": {
     "slide_type": "slide"
    }
   },
   "source": [
    "5. Print the full numpy array a without truncating.\n",
    "\n",
    "Input:\n",
    "np.set_printoptions(threshold=6)\n",
    "a = np.arange(15)\n",
    "#> array([ 0,  1,  2, ..., 12, 13, 14])\n",
    "\n",
    "Desired Output:\n",
    "#> array([ 0,  1,  2,  3,  4,  5,  6,  7,  8,  9, 10, 11, 12, 13, 14])"
   ]
  },
  {
   "cell_type": "code",
   "execution_count": 16,
   "metadata": {
    "slideshow": {
     "slide_type": "fragment"
    }
   },
   "outputs": [
    {
     "name": "stdout",
     "output_type": "stream",
     "text": [
      "[ 0  1  2  3  4  5  6  7  8  9 10 11 12 13 14]\n"
     ]
    }
   ],
   "source": [
    "import numpy as np\n",
    "np.set_printoptions(threshold=6)\n",
    "a = np.arange(15)\n",
    "\n",
    "np.set_printoptions(threshold=1000)\n",
    "print(a)"
   ]
  },
  {
   "cell_type": "markdown",
   "metadata": {
    "slideshow": {
     "slide_type": "slide"
    }
   },
   "source": [
    "6. Find the position of the first occurrence of a value greater than 1.0 in petalwidth 4th column of iris dataset.\n",
    "\n",
    "# Input:\n",
    "url = 'https://archive.ics.uci.edu/ml/machine-learning-databases/iris/iris.data'\n",
    "iris = np.genfromtxt(url, delimiter=',', dtype='object')"
   ]
  },
  {
   "cell_type": "code",
   "execution_count": 81,
   "metadata": {
    "slideshow": {
     "slide_type": "fragment"
    }
   },
   "outputs": [
    {
     "name": "stdout",
     "output_type": "stream",
     "text": [
      "[b'7.0' b'3.2' b'4.7' b'1.4' b'Iris-versicolor'] 50\n"
     ]
    },
    {
     "data": {
      "text/plain": [
       "array([50], dtype=int32)"
      ]
     },
     "execution_count": 81,
     "metadata": {},
     "output_type": "execute_result"
    }
   ],
   "source": [
    "url = 'https://archive.ics.uci.edu/ml/machine-learning-databases/iris/iris.data'\n",
    "iris = np.genfromtxt(url, delimiter=',', dtype='object')\n",
    "\n",
    "i=0\n",
    "for e in iris:\n",
    "    if float(e[3])>1.0:\n",
    "        print(e, i)\n",
    "        break\n",
    "    i+=1\n",
    "\n",
    "#iris[:,3].astype(float)>1.0\n",
    "\n",
    "# https://docs.scipy.org/doc/numpy/reference/generated/numpy.argwhere.html\n",
    "np.argwhere(iris[:, 3].astype(float) > 1.0)[0]"
   ]
  },
  {
   "cell_type": "markdown",
   "metadata": {
    "slideshow": {
     "slide_type": "slide"
    }
   },
   "source": [
    "7. Import the image from the following URL and convert it to a numpy array.\n",
    "\n",
    "URL = 'https://upload.wikimedia.org/wikipedia/commons/8/8b/Denali_Mt_McKinley.jpg'"
   ]
  },
  {
   "cell_type": "code",
   "execution_count": 49,
   "metadata": {
    "slideshow": {
     "slide_type": "fragment"
    }
   },
   "outputs": [
    {
     "name": "stdout",
     "output_type": "stream",
     "text": [
      "[[[  9  72 125]\n",
      "  [ 10  73 126]\n",
      "  [ 11  74 127]\n",
      "  ...\n",
      "  [ 44 104 154]\n",
      "  [ 44 104 154]\n",
      "  [ 42 103 147]]\n",
      "\n",
      " [[ 10  73 126]\n",
      "  [ 11  74 127]\n",
      "  [ 12  75 128]\n",
      "  ...\n",
      "  [ 46 106 156]\n",
      "  [ 46 106 156]\n",
      "  [ 48 109 154]]\n",
      "\n",
      " [[ 11  74 127]\n",
      "  [ 12  75 128]\n",
      "  [ 13  76 129]\n",
      "  ...\n",
      "  [ 47 107 157]\n",
      "  [ 47 107 157]\n",
      "  [ 45 105 155]]\n",
      "\n",
      " ...\n",
      "\n",
      " [[ 15  28  36]\n",
      "  [ 24  46  60]\n",
      "  [ 16  33  43]\n",
      "  ...\n",
      "  [ 23  60  79]\n",
      "  [ 39  73  98]\n",
      "  [ 42  79 106]]\n",
      "\n",
      " [[ 32  50  60]\n",
      "  [ 21  48  65]\n",
      "  [ 27  49  62]\n",
      "  ...\n",
      "  [ 23  46  54]\n",
      "  [ 22  41  56]\n",
      "  [ 20  43  59]]\n",
      "\n",
      " [[ 29  55  68]\n",
      "  [ 26  59  78]\n",
      "  [ 19  48  64]\n",
      "  ...\n",
      "  [ 25  71  95]\n",
      "  [ 34  75 107]\n",
      "  [ 27  64  91]]]\n"
     ]
    }
   ],
   "source": [
    "from io import BytesIO\n",
    "from PIL import Image\n",
    "import PIL, requests\n",
    "\n",
    "# Import image from URL\n",
    "URL = 'https://upload.wikimedia.org/wikipedia/commons/8/8b/Denali_Mt_McKinley.jpg'\n",
    "response = requests.get(URL)\n",
    "\n",
    "# Read it as Image\n",
    "I = Image.open(BytesIO(response.content))\n",
    "\n",
    "# Optionally resize\n",
    "I = I.resize([150,150])\n",
    "\n",
    "# Convert to numpy array\n",
    "arr = np.asarray(I)\n",
    "\n",
    "# Optionaly Convert it back to an image and show\n",
    "#im = PIL.Image.fromarray(np.uint8(arr))\n",
    "#Image.Image.show(im)"
   ]
  },
  {
   "cell_type": "markdown",
   "metadata": {
    "slideshow": {
     "slide_type": "slide"
    }
   },
   "source": [
    "8. Drop all nan values from a 1D numpy array\n",
    "\n",
    "Input:\n",
    "np.array([1,2,3,np.nan,5,6,7,np.nan])\n",
    "\n",
    "Desired Output:\n",
    "array([ 1.,  2.,  3.,  5.,  6.,  7.])"
   ]
  },
  {
   "cell_type": "code",
   "execution_count": 51,
   "metadata": {
    "slideshow": {
     "slide_type": "fragment"
    }
   },
   "outputs": [
    {
     "name": "stdout",
     "output_type": "stream",
     "text": [
      "[False False False  True False False False  True]\n"
     ]
    },
    {
     "data": {
      "text/plain": [
       "array([1., 2., 3., 5., 6., 7.])"
      ]
     },
     "execution_count": 51,
     "metadata": {},
     "output_type": "execute_result"
    }
   ],
   "source": [
    "import numpy as np\n",
    "a = np.array([1,2,3,np.nan,5,6,7,np.nan])\n",
    "# np.isnan(a)\n",
    "a[~np.isnan(a)] # keep those records whose value is TRUE"
   ]
  },
  {
   "cell_type": "markdown",
   "metadata": {
    "slideshow": {
     "slide_type": "slide"
    }
   },
   "source": [
    "9. From the given 1d array arr, generate a 2d matrix using strides, with a window length of 4 and strides of 2, like [[0,1,2,3], [2,3,4,5], [4,5,6,7]..]\n",
    "\n",
    "Input:\n",
    "arr = np.arange(15) \n",
    "#> array([ 0,  1,  2,  3,  4,  5,  6,  7,  8,  9, 10, 11, 12, 13, 14])\n",
    "\n",
    "Desired Output:\n",
    "#> [[ 0  1  2  3] [ 2  3  4  5] [ 4  5  6  7] [ 6  7  8  9] [ 8  9 10 11] [10 11 12 13]]"
   ]
  },
  {
   "cell_type": "code",
   "execution_count": 93,
   "metadata": {
    "scrolled": true,
    "slideshow": {
     "slide_type": "fragment"
    }
   },
   "outputs": [
    {
     "name": "stdout",
     "output_type": "stream",
     "text": [
      "6\n",
      "0 2 4 6 8 10 \n",
      "[[ 0  1  2  3]\n",
      " [ 2  3  4  5]\n",
      " [ 4  5  6  7]\n",
      " [ 6  7  8  9]\n",
      " [ 8  9 10 11]\n",
      " [10 11 12 13]]\n"
     ]
    }
   ],
   "source": [
    "def gen_strides(a, stride_len=5, window_len=5):\n",
    "    # https://www.w3schools.com/python/python_operators.asp\n",
    "    n_strides = ((a.size-window_len)//stride_len) + 1\n",
    "    \n",
    "    # DEBUG\n",
    "    print(n_strides)\n",
    "    for s in np.arange(0, n_strides*stride_len, stride_len):\n",
    "        print(s, end=\" \")\n",
    "    print(\"\")\n",
    "    \n",
    "    # e.g., np.array(a[a>2])\n",
    "    return np.array([a[s:(s+window_len)] for s in np.arange(0, n_strides*stride_len, stride_len)])\n",
    "\n",
    "arr = np.arange(15)\n",
    "print(gen_strides(arr, stride_len=2, window_len=4))"
   ]
  },
  {
   "cell_type": "markdown",
   "metadata": {
    "slideshow": {
     "slide_type": "slide"
    }
   },
   "source": [
    "10. Create the ranks for the given numeric array a.\n",
    "\n",
    "Input:\n",
    "np.random.seed(10)\n",
    "a = np.random.randint(20, size=10)\n",
    "print(a)\n",
    "#> [ 9  4 15  0 17 16 17  8  9  0]\n",
    "\n",
    "Desired output:\n",
    "[4 2 6 0 8 7 9 3 5 1]"
   ]
  },
  {
   "cell_type": "code",
   "execution_count": 2,
   "metadata": {
    "slideshow": {
     "slide_type": "fragment"
    }
   },
   "outputs": [
    {
     "name": "stdout",
     "output_type": "stream",
     "text": [
      "Array:  [ 9  4 15  0 17]\n",
      "[3 1 0 2 4]\n"
     ]
    }
   ],
   "source": [
    "import numpy as np\n",
    "np.random.seed(10)\n",
    "a = np.random.randint(20, size=5)\n",
    "print('Array: ', a)\n",
    "\n",
    "# https://docs.scipy.org/doc/numpy/reference/generated/numpy.argsort.html\n",
    "print(a.argsort())"
   ]
  },
  {
   "cell_type": "code",
   "execution_count": 3,
   "metadata": {
    "slideshow": {
     "slide_type": "fragment"
    }
   },
   "outputs": [
    {
     "name": "stdout",
     "output_type": "stream",
     "text": [
      "[2 1 3 0 4]\n"
     ]
    }
   ],
   "source": [
    "print(a.argsort().argsort())"
   ]
  }
 ],
 "metadata": {
  "celltoolbar": "Slideshow",
  "kernelspec": {
   "display_name": "Python 3",
   "language": "python",
   "name": "python3"
  },
  "language_info": {
   "codemirror_mode": {
    "name": "ipython",
    "version": 3
   },
   "file_extension": ".py",
   "mimetype": "text/x-python",
   "name": "python",
   "nbconvert_exporter": "python",
   "pygments_lexer": "ipython3",
   "version": "3.7.3"
  }
 },
 "nbformat": 4,
 "nbformat_minor": 2
}
